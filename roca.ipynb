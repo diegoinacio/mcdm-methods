{
 "cells": [
  {
   "cell_type": "markdown",
   "id": "timely-antibody",
   "metadata": {},
   "source": [
    "# ROCA\n",
    "---\n",
    "_**R**ank **O**rder **C**lustering **A**lgorithm_"
   ]
  },
  {
   "cell_type": "code",
   "execution_count": 1,
   "id": "liked-monaco",
   "metadata": {},
   "outputs": [],
   "source": [
    "import numpy as np\n",
    "import pandas as pd"
   ]
  },
  {
   "cell_type": "code",
   "execution_count": 2,
   "id": "former-programmer",
   "metadata": {},
   "outputs": [],
   "source": [
    "import matplotlib.pyplot as plt"
   ]
  },
  {
   "cell_type": "code",
   "execution_count": 3,
   "id": "vulnerable-music",
   "metadata": {},
   "outputs": [],
   "source": [
    "import warnings\n",
    "warnings.filterwarnings(\"ignore\")"
   ]
  },
  {
   "cell_type": "code",
   "execution_count": 4,
   "id": "marine-computer",
   "metadata": {},
   "outputs": [],
   "source": [
    "def plot_table(df, figsize=(12, 6), margin=8):\n",
    "    fig, ax = plt.subplots(figsize=figsize)\n",
    "    # hide axes\n",
    "    fig.patch.set_visible(False)\n",
    "    ax.axis(\"off\")\n",
    "    ax.axis(\"tight\")\n",
    "    # plot table\n",
    "    m = \" \"*margin\n",
    "    ax.table(\n",
    "        cellText=df.values,\n",
    "        rowLabels=[f'{m}{i}{m}' for i in df.index],\n",
    "        colLabels=df.columns,\n",
    "        cellColours=np.where(\n",
    "            df.values,\n",
    "            \"#00ff88\",\n",
    "            \"#ff0044\"\n",
    "        ),\n",
    "        bbox=[0, 0, 1, 1],\n",
    "        loc=\"center\",\n",
    "        cellLoc=\"center\"\n",
    "    )\n",
    "    # output\n",
    "    fig.tight_layout()\n",
    "    plt.show()"
   ]
  },
  {
   "cell_type": "markdown",
   "id": "seventh-toner",
   "metadata": {},
   "source": [
    "## 1. Introduction\n",
    "---\n",
    "The **ROCA** (_Rank Order Clustering Algorithm_) method is a technique used to group elements into clusters based on their similarities through dichotomous features. This method was initially designed for [Production Flow Analysis](https://en.wikipedia.org/wiki/Production_flow_analysis), to solve factory layout and production optimization problems. It is especially useful wherever it is necessary to group machines, products or tasks efficiently."
   ]
  },
  {
   "cell_type": "markdown",
   "id": "magnetic-stone",
   "metadata": {},
   "source": [
    "### 1.1. Applications\n",
    "---\n",
    "The _ROCA method_ can be used in any situation where it is necessary to group elements based on binary characteristics. Some examples are:\n",
    "\n",
    "- Manufacturing cells\n",
    "- Equipment layout\n",
    "- Element gathering\n",
    "\n",
    "For example, let's consider a set of _Manufacturing Equipment_ $M$ that each produces different _Products_ $P$:"
   ]
  },
  {
   "cell_type": "code",
   "execution_count": 5,
   "id": "tutorial-hardware",
   "metadata": {
    "scrolled": false
   },
   "outputs": [
    {
     "data": {
      "image/png": "[encoded data removed]",
      "text/plain": [
       "<Figure size 864x432 with 1 Axes>"
      ]
     },
     "metadata": {
      "needs_background": "light"
     },
     "output_type": "display_data"
    }
   ],
   "source": [
    "data = np.array([\n",
    "    [1, 1, 1, 0, 0, 0, 0, 0, 0, 0],\n",
    "    [1, 0, 1, 0, 0, 0, 0, 0, 0, 0],\n",
    "    [1, 1, 1, 0, 0, 0, 0, 0, 0, 0],\n",
    "    [0, 0, 0, 1, 1, 1, 0, 0, 0, 0],\n",
    "    [0, 0, 0, 1, 1, 0, 0, 0, 0, 0],\n",
    "    [0, 0, 0, 0, 0, 0, 1, 1, 1, 1],\n",
    "    [0, 0, 0, 0, 0, 0, 1, 1, 0, 1],\n",
    "    [0, 0, 0, 0, 0, 0, 1, 1, 1, 0],\n",
    "])\n",
    "\n",
    "n, m = data.shape\n",
    "M = np.arange(m)\n",
    "N = np.arange(n)\n",
    "np.random.seed(42)\n",
    "np.random.shuffle(M)\n",
    "np.random.shuffle(N)\n",
    "\n",
    "df = pd.DataFrame(data[N][:,M])\n",
    "df.index = [f'M{i}' for i in np.arange(n)+1]\n",
    "df.columns = [f'P{j}' for j in np.arange(m)+1]\n",
    "\n",
    "plot_table(df)"
   ]
  },
  {
   "cell_type": "markdown",
   "id": "miniature-planet",
   "metadata": {},
   "source": [
    "## 2. Method steps\n",
    "---"
   ]
  },
  {
   "cell_type": "code",
   "execution_count": 6,
   "id": "loved-express",
   "metadata": {},
   "outputs": [],
   "source": [
    "df_ = df.copy()"
   ]
  },
  {
   "cell_type": "markdown",
   "id": "understood-investor",
   "metadata": {},
   "source": [
    "### 2.1. Decimal of rows\n",
    "---\n",
    "For each row, calculate the decimal representation of the binary sequence:\n",
    "\n",
    "$$ \\large\n",
    "d_i = \\sum_{j=1}^m b_{ij} \\cdot 2^{m-j}\n",
    "$$"
   ]
  },
  {
   "cell_type": "code",
   "execution_count": 7,
   "id": "perfect-reference",
   "metadata": {},
   "outputs": [
    {
     "data": {
      "text/plain": [
       "M1      6\n",
       "M2     80\n",
       "M3    336\n",
       "M4    134\n",
       "M5    553\n",
       "M6    545\n",
       "M7     41\n",
       "M8    336\n",
       "dtype: int64"
      ]
     },
     "execution_count": 7,
     "metadata": {},
     "output_type": "execute_result"
    }
   ],
   "source": [
    "cols = df_.columns\n",
    "m = len(cols)\n",
    "\n",
    "M_bin = pd.Series([2**(m - j) for j in np.arange(m)+1], index=cols)\n",
    "M_dec = np.sum(df_*M_bin, axis=1)\n",
    "\n",
    "M_dec"
   ]
  },
  {
   "cell_type": "markdown",
   "id": "studied-israel",
   "metadata": {},
   "source": [
    "### 2.2. Order rows\n",
    "---\n",
    "Order rows based on descending sort of decimal values, previously computed."
   ]
  },
  {
   "cell_type": "code",
   "execution_count": 8,
   "id": "chief-bubble",
   "metadata": {},
   "outputs": [
    {
     "data": {
      "text/html": [
       "<div>\n",
       "<style scoped>\n",
       "    .dataframe tbody tr th:only-of-type {\n",
       "        vertical-align: middle;\n",
       "    }\n",
       "\n",
       "    .dataframe tbody tr th {\n",
       "        vertical-align: top;\n",
       "    }\n",
       "\n",
       "    .dataframe thead th {\n",
       "        text-align: right;\n",
       "    }\n",
       "</style>\n",
       "<table border=\"1\" class=\"dataframe\">\n",
       "  <thead>\n",
       "    <tr style=\"text-align: right;\">\n",
       "      <th></th>\n",
       "      <th>P1</th>\n",
       "      <th>P2</th>\n",
       "      <th>P3</th>\n",
       "      <th>P4</th>\n",
       "      <th>P5</th>\n",
       "      <th>P6</th>\n",
       "      <th>P7</th>\n",
       "      <th>P8</th>\n",
       "      <th>P9</th>\n",
       "      <th>P10</th>\n",
       "    </tr>\n",
       "  </thead>\n",
       "  <tbody>\n",
       "    <tr>\n",
       "      <th>M5</th>\n",
       "      <td>1</td>\n",
       "      <td>0</td>\n",
       "      <td>0</td>\n",
       "      <td>0</td>\n",
       "      <td>1</td>\n",
       "      <td>0</td>\n",
       "      <td>1</td>\n",
       "      <td>0</td>\n",
       "      <td>0</td>\n",
       "      <td>1</td>\n",
       "    </tr>\n",
       "    <tr>\n",
       "      <th>M6</th>\n",
       "      <td>1</td>\n",
       "      <td>0</td>\n",
       "      <td>0</td>\n",
       "      <td>0</td>\n",
       "      <td>1</td>\n",
       "      <td>0</td>\n",
       "      <td>0</td>\n",
       "      <td>0</td>\n",
       "      <td>0</td>\n",
       "      <td>1</td>\n",
       "    </tr>\n",
       "    <tr>\n",
       "      <th>M3</th>\n",
       "      <td>0</td>\n",
       "      <td>1</td>\n",
       "      <td>0</td>\n",
       "      <td>1</td>\n",
       "      <td>0</td>\n",
       "      <td>1</td>\n",
       "      <td>0</td>\n",
       "      <td>0</td>\n",
       "      <td>0</td>\n",
       "      <td>0</td>\n",
       "    </tr>\n",
       "    <tr>\n",
       "      <th>M8</th>\n",
       "      <td>0</td>\n",
       "      <td>1</td>\n",
       "      <td>0</td>\n",
       "      <td>1</td>\n",
       "      <td>0</td>\n",
       "      <td>1</td>\n",
       "      <td>0</td>\n",
       "      <td>0</td>\n",
       "      <td>0</td>\n",
       "      <td>0</td>\n",
       "    </tr>\n",
       "    <tr>\n",
       "      <th>M4</th>\n",
       "      <td>0</td>\n",
       "      <td>0</td>\n",
       "      <td>1</td>\n",
       "      <td>0</td>\n",
       "      <td>0</td>\n",
       "      <td>0</td>\n",
       "      <td>0</td>\n",
       "      <td>1</td>\n",
       "      <td>1</td>\n",
       "      <td>0</td>\n",
       "    </tr>\n",
       "    <tr>\n",
       "      <th>M2</th>\n",
       "      <td>0</td>\n",
       "      <td>0</td>\n",
       "      <td>0</td>\n",
       "      <td>1</td>\n",
       "      <td>0</td>\n",
       "      <td>1</td>\n",
       "      <td>0</td>\n",
       "      <td>0</td>\n",
       "      <td>0</td>\n",
       "      <td>0</td>\n",
       "    </tr>\n",
       "    <tr>\n",
       "      <th>M7</th>\n",
       "      <td>0</td>\n",
       "      <td>0</td>\n",
       "      <td>0</td>\n",
       "      <td>0</td>\n",
       "      <td>1</td>\n",
       "      <td>0</td>\n",
       "      <td>1</td>\n",
       "      <td>0</td>\n",
       "      <td>0</td>\n",
       "      <td>1</td>\n",
       "    </tr>\n",
       "    <tr>\n",
       "      <th>M1</th>\n",
       "      <td>0</td>\n",
       "      <td>0</td>\n",
       "      <td>0</td>\n",
       "      <td>0</td>\n",
       "      <td>0</td>\n",
       "      <td>0</td>\n",
       "      <td>0</td>\n",
       "      <td>1</td>\n",
       "      <td>1</td>\n",
       "      <td>0</td>\n",
       "    </tr>\n",
       "  </tbody>\n",
       "</table>\n",
       "</div>"
      ],
      "text/plain": [
       "    P1  P2  P3  P4  P5  P6  P7  P8  P9  P10\n",
       "M5   1   0   0   0   1   0   1   0   0    1\n",
       "M6   1   0   0   0   1   0   0   0   0    1\n",
       "M3   0   1   0   1   0   1   0   0   0    0\n",
       "M8   0   1   0   1   0   1   0   0   0    0\n",
       "M4   0   0   1   0   0   0   0   1   1    0\n",
       "M2   0   0   0   1   0   1   0   0   0    0\n",
       "M7   0   0   0   0   1   0   1   0   0    1\n",
       "M1   0   0   0   0   0   0   0   1   1    0"
      ]
     },
     "execution_count": 8,
     "metadata": {},
     "output_type": "execute_result"
    }
   ],
   "source": [
    "df_ = df_.iloc[np.argsort(-M_dec)]\n",
    "\n",
    "df_"
   ]
  },
  {
   "cell_type": "markdown",
   "id": "social-sponsorship",
   "metadata": {},
   "source": [
    "### 2.3. Decimal of columns\n",
    "---\n",
    "For each column, calculate the decimal representation of the binary sequence:\n",
    "\n",
    "$$ \\large\n",
    "d_j = \\sum_{i=1}^n b_{ij} \\cdot 2^{n-i}\n",
    "$$"
   ]
  },
  {
   "cell_type": "code",
   "execution_count": 9,
   "id": "hollywood-underwear",
   "metadata": {},
   "outputs": [
    {
     "data": {
      "text/plain": [
       "P1     192\n",
       "P2      48\n",
       "P3       8\n",
       "P4      52\n",
       "P5     194\n",
       "P6      52\n",
       "P7     130\n",
       "P8       9\n",
       "P9       9\n",
       "P10    194\n",
       "dtype: int64"
      ]
     },
     "execution_count": 9,
     "metadata": {},
     "output_type": "execute_result"
    }
   ],
   "source": [
    "rows = df_.index\n",
    "n = len(rows)\n",
    "\n",
    "N_bin = pd.Series([2**(n - i) for i in np.arange(n)+1], index=rows)\n",
    "N_dec = np.sum(df_.T*N_bin, axis=1)\n",
    "\n",
    "N_dec"
   ]
  },
  {
   "cell_type": "markdown",
   "id": "professional-commonwealth",
   "metadata": {},
   "source": [
    "### 2.4. Order columns\n",
    "---\n",
    "Order columns based on descending sort of decimal values, previously computed."
   ]
  },
  {
   "cell_type": "code",
   "execution_count": 10,
   "id": "medical-married",
   "metadata": {},
   "outputs": [
    {
     "data": {
      "text/html": [
       "<div>\n",
       "<style scoped>\n",
       "    .dataframe tbody tr th:only-of-type {\n",
       "        vertical-align: middle;\n",
       "    }\n",
       "\n",
       "    .dataframe tbody tr th {\n",
       "        vertical-align: top;\n",
       "    }\n",
       "\n",
       "    .dataframe thead th {\n",
       "        text-align: right;\n",
       "    }\n",
       "</style>\n",
       "<table border=\"1\" class=\"dataframe\">\n",
       "  <thead>\n",
       "    <tr style=\"text-align: right;\">\n",
       "      <th></th>\n",
       "      <th>P5</th>\n",
       "      <th>P10</th>\n",
       "      <th>P1</th>\n",
       "      <th>P7</th>\n",
       "      <th>P4</th>\n",
       "      <th>P6</th>\n",
       "      <th>P2</th>\n",
       "      <th>P8</th>\n",
       "      <th>P9</th>\n",
       "      <th>P3</th>\n",
       "    </tr>\n",
       "  </thead>\n",
       "  <tbody>\n",
       "    <tr>\n",
       "      <th>M5</th>\n",
       "      <td>1</td>\n",
       "      <td>1</td>\n",
       "      <td>1</td>\n",
       "      <td>1</td>\n",
       "      <td>0</td>\n",
       "      <td>0</td>\n",
       "      <td>0</td>\n",
       "      <td>0</td>\n",
       "      <td>0</td>\n",
       "      <td>0</td>\n",
       "    </tr>\n",
       "    <tr>\n",
       "      <th>M6</th>\n",
       "      <td>1</td>\n",
       "      <td>1</td>\n",
       "      <td>1</td>\n",
       "      <td>0</td>\n",
       "      <td>0</td>\n",
       "      <td>0</td>\n",
       "      <td>0</td>\n",
       "      <td>0</td>\n",
       "      <td>0</td>\n",
       "      <td>0</td>\n",
       "    </tr>\n",
       "    <tr>\n",
       "      <th>M3</th>\n",
       "      <td>0</td>\n",
       "      <td>0</td>\n",
       "      <td>0</td>\n",
       "      <td>0</td>\n",
       "      <td>1</td>\n",
       "      <td>1</td>\n",
       "      <td>1</td>\n",
       "      <td>0</td>\n",
       "      <td>0</td>\n",
       "      <td>0</td>\n",
       "    </tr>\n",
       "    <tr>\n",
       "      <th>M8</th>\n",
       "      <td>0</td>\n",
       "      <td>0</td>\n",
       "      <td>0</td>\n",
       "      <td>0</td>\n",
       "      <td>1</td>\n",
       "      <td>1</td>\n",
       "      <td>1</td>\n",
       "      <td>0</td>\n",
       "      <td>0</td>\n",
       "      <td>0</td>\n",
       "    </tr>\n",
       "    <tr>\n",
       "      <th>M4</th>\n",
       "      <td>0</td>\n",
       "      <td>0</td>\n",
       "      <td>0</td>\n",
       "      <td>0</td>\n",
       "      <td>0</td>\n",
       "      <td>0</td>\n",
       "      <td>0</td>\n",
       "      <td>1</td>\n",
       "      <td>1</td>\n",
       "      <td>1</td>\n",
       "    </tr>\n",
       "    <tr>\n",
       "      <th>M2</th>\n",
       "      <td>0</td>\n",
       "      <td>0</td>\n",
       "      <td>0</td>\n",
       "      <td>0</td>\n",
       "      <td>1</td>\n",
       "      <td>1</td>\n",
       "      <td>0</td>\n",
       "      <td>0</td>\n",
       "      <td>0</td>\n",
       "      <td>0</td>\n",
       "    </tr>\n",
       "    <tr>\n",
       "      <th>M7</th>\n",
       "      <td>1</td>\n",
       "      <td>1</td>\n",
       "      <td>0</td>\n",
       "      <td>1</td>\n",
       "      <td>0</td>\n",
       "      <td>0</td>\n",
       "      <td>0</td>\n",
       "      <td>0</td>\n",
       "      <td>0</td>\n",
       "      <td>0</td>\n",
       "    </tr>\n",
       "    <tr>\n",
       "      <th>M1</th>\n",
       "      <td>0</td>\n",
       "      <td>0</td>\n",
       "      <td>0</td>\n",
       "      <td>0</td>\n",
       "      <td>0</td>\n",
       "      <td>0</td>\n",
       "      <td>0</td>\n",
       "      <td>1</td>\n",
       "      <td>1</td>\n",
       "      <td>0</td>\n",
       "    </tr>\n",
       "  </tbody>\n",
       "</table>\n",
       "</div>"
      ],
      "text/plain": [
       "    P5  P10  P1  P7  P4  P6  P2  P8  P9  P3\n",
       "M5   1    1   1   1   0   0   0   0   0   0\n",
       "M6   1    1   1   0   0   0   0   0   0   0\n",
       "M3   0    0   0   0   1   1   1   0   0   0\n",
       "M8   0    0   0   0   1   1   1   0   0   0\n",
       "M4   0    0   0   0   0   0   0   1   1   1\n",
       "M2   0    0   0   0   1   1   0   0   0   0\n",
       "M7   1    1   0   1   0   0   0   0   0   0\n",
       "M1   0    0   0   0   0   0   0   1   1   0"
      ]
     },
     "execution_count": 10,
     "metadata": {},
     "output_type": "execute_result"
    }
   ],
   "source": [
    "df_ = df_.iloc[:, np.argsort(-N_dec)]\n",
    "\n",
    "df_"
   ]
  },
  {
   "cell_type": "markdown",
   "id": "sweet-forward",
   "metadata": {},
   "source": [
    "### 2.5. Repeat\n",
    "---\n",
    "Repeat the steps 1 to 4 until the matrix does not change."
   ]
  },
  {
   "cell_type": "code",
   "execution_count": 11,
   "id": "suspected-contact",
   "metadata": {},
   "outputs": [],
   "source": [
    "def order_rows(df):\n",
    "    # Calculate decimals\n",
    "    cols = df.columns\n",
    "    m = len(cols)\n",
    "    M_bin = pd.Series([2**(m - j) for j in np.arange(m)+1], index=cols)\n",
    "    M_dec = np.sum(df*M_bin, axis=1)\n",
    "    # Order rows\n",
    "    df = df.iloc[np.argsort(-M_dec)]\n",
    "    return df\n",
    "\n",
    "def order_columns(df):\n",
    "    # Calculate decimals\n",
    "    rows = df.index\n",
    "    n = len(rows)\n",
    "    N_bin = pd.Series([2**(n - i) for i in np.arange(n)+1], index=rows)\n",
    "    N_dec = np.sum(df.T*N_bin, axis=1)\n",
    "    # Order columns\n",
    "    df = df.iloc[:, np.argsort(-N_dec)]\n",
    "    return df"
   ]
  },
  {
   "cell_type": "code",
   "execution_count": 12,
   "id": "large-earth",
   "metadata": {},
   "outputs": [
    {
     "data": {
      "image/png": "[encoded data removed]",
      "text/plain": [
       "<Figure size 864x432 with 1 Axes>"
      ]
     },
     "metadata": {
      "needs_background": "light"
     },
     "output_type": "display_data"
    }
   ],
   "source": [
    "df_a = df.copy()\n",
    "df_b = df.copy()\n",
    "df_b[:] = 0\n",
    "\n",
    "while not np.array_equal(np.array(df_a), np.array(df_b)):\n",
    "    df_b = df_a.copy()\n",
    "    df_a = order_rows(df_a)\n",
    "    df_a = order_columns(df_a)\n",
    "\n",
    "plot_table(df_a)"
   ]
  },
  {
   "cell_type": "markdown",
   "id": "ambient-vacation",
   "metadata": {},
   "source": [
    "## 3. Examples\n",
    "---"
   ]
  },
  {
   "cell_type": "markdown",
   "id": "assigned-residence",
   "metadata": {},
   "source": [
    "### 3.1. Gym equipment layout\n",
    "---\n",
    "As an example, let's organize **exercise or equipment** so that we gather it by **muscle groups**. The data was taken from a fitness app I have here in my phone and the mains idea was to select activities from a traditional gym."
   ]
  },
  {
   "cell_type": "code",
   "execution_count": 13,
   "id": "intended-music",
   "metadata": {},
   "outputs": [
    {
     "data": {
      "image/png": "[encoded data removed]",
      "text/plain": [
       "<Figure size 1080x648 with 1 Axes>"
      ]
     },
     "metadata": {
      "needs_background": "light"
     },
     "output_type": "display_data"
    }
   ],
   "source": [
    "data = [\n",
    "    [1, 0, 0, 0, 1, 0, 0, 0, 0, 0],\n",
    "    [0, 1, 0, 1, 0, 0, 0, 0, 0, 0],\n",
    "    [0, 0, 0, 0, 0, 1, 1, 1, 1, 0],\n",
    "    [0, 0, 0, 0, 0, 1, 0, 0, 0, 0],\n",
    "    [0, 0, 0, 0, 0, 0, 1, 1, 0, 0],\n",
    "    [0, 1, 0, 1, 0, 0, 0, 0, 0, 0],\n",
    "    [0, 0, 1, 0, 0, 0, 0, 0, 0, 0],\n",
    "    [0, 0, 0, 1, 0, 0, 0, 0, 0, 0],\n",
    "    [0, 0, 0, 0, 1, 0, 0, 0, 0, 0],\n",
    "    [0, 0, 0, 0, 0, 0, 0, 0, 0, 1],\n",
    "    [0, 0, 0, 0, 0, 0, 0, 1, 0, 0],\n",
    "    [1, 0, 1, 1, 1, 0, 0, 0, 0, 0],\n",
    "    [0, 0, 0, 0, 0, 0, 0, 0, 0, 1],\n",
    "    [0, 0, 0, 0, 0, 0, 0, 0, 1, 0]\n",
    "]\n",
    "\n",
    "df_ex1 = pd.DataFrame(data)\n",
    "\n",
    "df_ex1.index = [\n",
    "    \"Bench Press\", \"Seated Row\", \"Leg Press\", \n",
    "    \"Leg Extension\", \"Leg Flexion\", \n",
    "    \"High Pull\", \"Shoulder Press\", \"Scott\",\n",
    "    \"Tríceps Pulley\", \n",
    "    \"Ab Crunch Machine\", \"Adutor/Abdutor\", \n",
    "    \"Crossover\", \"Abdominal Plank\", \n",
    "    \"Calf Raise\"\n",
    "]\n",
    "\n",
    "df_ex1.columns = [\n",
    "    \"Chest\", \"Back\", \"Shoulders\", \"Biceps\",\n",
    "    \"Triceps\", \"Quadriceps\", \"Rear Thigh\", \n",
    "    \"Glutes\", \"Calves\", \"Abdomen\"\n",
    "]\n",
    "\n",
    "\n",
    "\n",
    "plot_table(df_ex1, (15, 9), 0)"
   ]
  },
  {
   "cell_type": "code",
   "execution_count": 14,
   "id": "unsigned-funds",
   "metadata": {},
   "outputs": [
    {
     "data": {
      "image/png": "[encoded data removed]",
      "text/plain": [
       "<Figure size 1080x648 with 1 Axes>"
      ]
     },
     "metadata": {
      "needs_background": "light"
     },
     "output_type": "display_data"
    }
   ],
   "source": [
    "df_ex1_a = df_ex1.copy()\n",
    "df_ex1_b = df_ex1.copy()\n",
    "df_ex1_b[:] = 0\n",
    "\n",
    "while not np.array_equal(np.array(df_ex1_a), np.array(df_ex1_b)):\n",
    "    df_ex1_b = df_ex1_a.copy()\n",
    "    df_ex1_a = order_rows(df_ex1_a)\n",
    "    df_ex1_a = order_columns(df_ex1_a)\n",
    "\n",
    "plot_table(df_ex1_a, (15, 9), 0)"
   ]
  }
 ],
 "metadata": {
  "kernelspec": {
   "display_name": "Python [conda env:root] *",
   "language": "python",
   "name": "conda-root-py"
  },
  "language_info": {
   "codemirror_mode": {
    "name": "ipython",
    "version": 3
   },
   "file_extension": ".py",
   "mimetype": "text/x-python",
   "name": "python",
   "nbconvert_exporter": "python",
   "pygments_lexer": "ipython3",
   "version": "3.7.10"
  }
 },
 "nbformat": 4,
 "nbformat_minor": 5
}
